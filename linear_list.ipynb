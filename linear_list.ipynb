{
  "cells": [
    {
      "cell_type": "markdown",
      "metadata": {
        "id": "view-in-github",
        "colab_type": "text"
      },
      "source": [
        "<a href=\"https://colab.research.google.com/github/ykkim77/python_practice_3rd/blob/main/linear_list.ipynb\" target=\"_parent\"><img src=\"https://colab.research.google.com/assets/colab-badge.svg\" alt=\"Open In Colab\"/></a>"
      ]
    },
    {
      "cell_type": "markdown",
      "metadata": {
        "id": "_17Zhg4BXgzQ"
      },
      "source": [
        "# 선형 리스트"
      ]
    },
    {
      "cell_type": "markdown",
      "metadata": {
        "id": "Q_jsQatEZHj0"
      },
      "source": [
        "## 선형 리스트 핵심 코드 구현"
      ]
    },
    {
      "cell_type": "code",
      "execution_count": null,
      "metadata": {
        "id": "gJHLDQa3Xat-",
        "outputId": "dddca166-3814-4849-9f16-b584bb2ce388"
      },
      "outputs": [
        {
          "name": "stdout",
          "output_type": "stream",
          "text": [
            "['가을 동화', '나의 아저씨', '라바', '마틸다', '프렌즈']\n",
            "가을 동화\n",
            "프렌즈\n"
          ]
        }
      ],
      "source": [
        "media = [\"가을 동화\", \"나의 아저씨\", \"라바\",\"마틸다\",\"프렌즈\"]\n",
        "print(media)\n",
        "print(media[0])\n",
        "print(media[4])"
      ]
    },
    {
      "cell_type": "markdown",
      "metadata": {
        "id": "3KOQIqLRZaed"
      },
      "source": [
        "- 데이터 삽입 : 끝에 삽입"
      ]
    },
    {
      "cell_type": "code",
      "execution_count": null,
      "metadata": {
        "id": "lDjoQ5CQZcKM",
        "outputId": "55870f67-5790-41e6-8479-f4f43c2d52e0"
      },
      "outputs": [
        {
          "name": "stdout",
          "output_type": "stream",
          "text": [
            "['가을 동화', '나의 아저씨', '라바', '마틸다', '프렌즈', None]\n"
          ]
        }
      ],
      "source": [
        "media.append(None)   # 공간 확보\n",
        "print(media)"
      ]
    },
    {
      "cell_type": "code",
      "execution_count": null,
      "metadata": {
        "id": "uuXOuwDo42Zy",
        "outputId": "44797a68-8835-4e4f-957a-52bb38526e1d"
      },
      "outputs": [
        {
          "name": "stdout",
          "output_type": "stream",
          "text": [
            "['가을 동화', '나의 아저씨', '라바', '마틸다', '프렌즈', '히트맨']\n"
          ]
        }
      ],
      "source": [
        "media[5] = '히트맨'\n",
        "print(media)"
      ]
    },
    {
      "cell_type": "markdown",
      "metadata": {
        "id": "pbcoqaTV42Z0"
      },
      "source": [
        "데이터 삽입 : 중간에 삽입(4번째 자리)"
      ]
    },
    {
      "cell_type": "code",
      "execution_count": null,
      "metadata": {
        "id": "l_ST1E2f42Z3",
        "outputId": "09717158-78d3-4779-b528-89e9c278f5c9"
      },
      "outputs": [
        {
          "name": "stdout",
          "output_type": "stream",
          "text": [
            "['가을 동화', '나의 아저씨', '라바', '마틸다', '프렌즈', '히트맨', None]\n"
          ]
        }
      ],
      "source": [
        "media.append(None)\n",
        "print(media)"
      ]
    },
    {
      "cell_type": "markdown",
      "metadata": {
        "id": "LxqBahyi42Z6"
      },
      "source": [
        "- 기존데이터 뒤로 밀기"
      ]
    },
    {
      "cell_type": "code",
      "execution_count": null,
      "metadata": {
        "id": "_FVBXQMx42Z8",
        "outputId": "e51f8a1e-de5a-49cc-c265-e58c9b2956e0"
      },
      "outputs": [
        {
          "name": "stdout",
          "output_type": "stream",
          "text": [
            "['가을 동화', '나의 아저씨', '라바', '마틸다', '프렌즈', None, '히트맨']\n"
          ]
        }
      ],
      "source": [
        "media[6] = media[5]\n",
        "media[5] = None\n",
        "print(media)"
      ]
    },
    {
      "cell_type": "code",
      "execution_count": null,
      "metadata": {
        "id": "905P_W4d42Z9",
        "outputId": "85c7848d-2afb-4dcb-bef7-83953bb2cb2a"
      },
      "outputs": [
        {
          "name": "stdout",
          "output_type": "stream",
          "text": [
            "['가을 동화', '나의 아저씨', '라바', '마틸다', None, '프렌즈', '히트맨']\n"
          ]
        }
      ],
      "source": [
        "media[5]= media[4]\n",
        "media[4] = None\n",
        "\n",
        "print(media)"
      ]
    },
    {
      "cell_type": "code",
      "execution_count": null,
      "metadata": {
        "id": "G-516JjB42Z-",
        "outputId": "bcd648eb-5ae2-40c6-abac-3f99d4760697"
      },
      "outputs": [
        {
          "name": "stdout",
          "output_type": "stream",
          "text": [
            "['가을 동화', '나의 아저씨', '라바', '마틸다', '사도', '프렌즈', '히트맨']\n"
          ]
        }
      ],
      "source": [
        "media[4]= \"사도\"\n",
        "print(media)\n"
      ]
    },
    {
      "cell_type": "markdown",
      "metadata": {
        "id": "vHI4_1M242Z_"
      },
      "source": [
        "- 데이터 삭제 : 중간 데이터 삭제(5번째 자리)"
      ]
    },
    {
      "cell_type": "code",
      "execution_count": null,
      "metadata": {
        "id": "ymSzT96i42Z_",
        "outputId": "263c1d41-eba9-4a91-9db2-97f7d8bd2118"
      },
      "outputs": [
        {
          "name": "stdout",
          "output_type": "stream",
          "text": [
            "['가을 동화', '나의 아저씨', '라바', '마틸다', '사도', None, '히트맨']\n"
          ]
        }
      ],
      "source": [
        "media[5]= None\n",
        "print(media )"
      ]
    },
    {
      "cell_type": "markdown",
      "metadata": {
        "id": "h44RozV642aA"
      },
      "source": [
        "- 기존 데이터 앞으로 밀기"
      ]
    },
    {
      "cell_type": "code",
      "execution_count": null,
      "metadata": {
        "id": "vjruMP9B42aB",
        "outputId": "44a6645f-1acd-41f0-f8c9-5c4ea28f5e3a"
      },
      "outputs": [
        {
          "name": "stdout",
          "output_type": "stream",
          "text": [
            "['가을 동화', '나의 아저씨', '라바', '마틸다', '사도', '히트맨', None]\n"
          ]
        }
      ],
      "source": [
        "media[5]= media[6]\n",
        "media[6] = None\n",
        "print(media)"
      ]
    },
    {
      "cell_type": "markdown",
      "metadata": {
        "id": "R83Ch8C742aC"
      },
      "source": [
        "- 빈공간 삭제"
      ]
    },
    {
      "cell_type": "code",
      "execution_count": null,
      "metadata": {
        "id": "yqo0AVOY42aC",
        "outputId": "7a6e9c4d-0727-4712-c7ed-e721e8405d74"
      },
      "outputs": [
        {
          "name": "stdout",
          "output_type": "stream",
          "text": [
            "['가을 동화', '나의 아저씨', '라바', '마틸다', '사도', '히트맨']\n"
          ]
        }
      ],
      "source": [
        "del(media[6])\n",
        "print(media)\n"
      ]
    },
    {
      "cell_type": "markdown",
      "metadata": {
        "id": "tlUqN91K42aD"
      },
      "source": [
        "### 선형 리스트 함수로 구현하기"
      ]
    },
    {
      "cell_type": "markdown",
      "metadata": {
        "id": "WZ5xWgoJ42aE"
      },
      "source": [
        "* 데이터 삽입함수"
      ]
    },
    {
      "cell_type": "code",
      "execution_count": null,
      "metadata": {
        "id": "xPjokSYb42aG",
        "outputId": "932df266-badd-4fdf-f59d-dd6fd3a64318"
      },
      "outputs": [
        {
          "name": "stdout",
          "output_type": "stream",
          "text": [
            "[]\n",
            "['리바', '라바']\n"
          ]
        }
      ],
      "source": [
        "media = []\n",
        "\n",
        "\n",
        "def insert_data(position, media_name):\n",
        "    \n",
        "    if position < 0 or position > len(media):\n",
        "        print(\"데이터 삽입 위치를 벗어남\")\n",
        "        return\n",
        "\n",
        "    media.append(None)            # 공간 확보\n",
        "    mLen = len(media)                # 리스트의 현재 크기\n",
        "\n",
        "    for i in range(mLen-1, position, -1):\n",
        "        media[i] = media[i-1]\n",
        "        media[i-1] = None\n",
        "    media[position] = media_name      # 지정 위치에 미디어 추가\n",
        "\n",
        "\n",
        "print(media)\n",
        "insert_data(0,\"라바\")\n",
        "insert_data(0,\"리바\")\n",
        "print(media)\n",
        "\n"
      ]
    },
    {
      "cell_type": "markdown",
      "metadata": {
        "id": "rFj_h-Ve42aK"
      },
      "source": [
        "- 데이터 삭제함수"
      ]
    },
    {
      "cell_type": "code",
      "execution_count": null,
      "metadata": {
        "id": "NJOVYhtY42aL",
        "outputId": "3247dfe9-8bbc-4061-c3de-e773ddb15992"
      },
      "outputs": [
        {
          "name": "stdout",
          "output_type": "stream",
          "text": [
            "[]\n"
          ]
        }
      ],
      "source": [
        "def del_data(position):\n",
        "    if position < 0 or position >= len(media):\n",
        "        print(\"데이터 삽입 위치를 벗어남\")\n",
        "        return\n",
        "\n",
        "    mLen = len(media)            # 리스트의 현재 크기\n",
        "    media[position] = None   #  데이터 삭제\n",
        "\n",
        "    for i in range(position+1, mLen):\n",
        "        media[i-1] = media[i]\n",
        "        media[i] = None\n",
        "    del(media[mLen-1])         # 리스트 맨 마지막 공간 삭제\n",
        "\n",
        "\n",
        "del_data(0)\n",
        "print(media)"
      ]
    }
  ],
  "metadata": {
    "colab": {
      "provenance": [],
      "include_colab_link": true
    },
    "kernelspec": {
      "display_name": "Python 3",
      "name": "python3"
    },
    "language_info": {
      "codemirror_mode": {
        "name": "ipython",
        "version": 3
      },
      "file_extension": ".py",
      "mimetype": "text/x-python",
      "name": "python",
      "nbconvert_exporter": "python",
      "pygments_lexer": "ipython3",
      "version": "3.8.8"
    }
  },
  "nbformat": 4,
  "nbformat_minor": 0
}