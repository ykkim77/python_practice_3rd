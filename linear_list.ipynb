{
  "cells": [
    {
      "cell_type": "markdown",
      "metadata": {
        "colab_type": "text",
        "id": "view-in-github"
      },
      "source": [
        "<a href=\"https://colab.research.google.com/github/ykkim77/python-13th-week/blob/main/python_13th_week.ipynb\" target=\"_parent\"><img src=\"https://colab.research.google.com/assets/colab-badge.svg\" alt=\"Open In Colab\"/></a>"
      ]
    },
    {
      "cell_type": "markdown",
      "metadata": {
        "id": "_17Zhg4BXgzQ"
      },
      "source": [
        "# 선형 리스트"
      ]
    },
    {
      "cell_type": "markdown",
      "metadata": {
        "id": "Q_jsQatEZHj0"
      },
      "source": [
        "## 선형 리스트 핵심 코드 구현"
      ]
    },
    {
      "cell_type": "code",
      "execution_count": 4,
      "metadata": {
        "id": "gJHLDQa3Xat-"
      },
      "outputs": [
        {
          "name": "stdout",
          "output_type": "stream",
          "text": [
            "['가을 동화', '나의 아저씨', '라바', '마틸다', '프렌즈']\n",
            "가을 동화\n",
            "프렌즈\n"
          ]
        }
      ],
      "source": [
        "media = [\"가을 동화\", \"나의 아저씨\", \"라바\",\"마틸다\",\"프렌즈\"]\n",
        "print(media)\n",
        "print(media[0])\n",
        "print(media[4])"
      ]
    },
    {
      "cell_type": "markdown",
      "metadata": {
        "id": "3KOQIqLRZaed"
      },
      "source": [
        "- 데이터 삽입 : 끝에 삽입"
      ]
    },
    {
      "cell_type": "code",
      "execution_count": 5,
      "metadata": {
        "id": "lDjoQ5CQZcKM"
      },
      "outputs": [
        {
          "name": "stdout",
          "output_type": "stream",
          "text": [
            "['가을 동화', '나의 아저씨', '라바', '마틸다', '프렌즈', None]\n"
          ]
        }
      ],
      "source": [
        "media.append(None)   # 공간 확보\n",
        "print(media)"
      ]
    },
    {
      "cell_type": "code",
      "execution_count": 7,
      "metadata": {},
      "outputs": [
        {
          "name": "stdout",
          "output_type": "stream",
          "text": [
            "['가을 동화', '나의 아저씨', '라바', '마틸다', '프렌즈', '히트맨']\n"
          ]
        }
      ],
      "source": [
        "media[5] = '히트맨'\n",
        "print(media)"
      ]
    },
    {
      "cell_type": "markdown",
      "metadata": {},
      "source": [
        "데이터 삽입 : 중간에 삽입(4번째 자리)"
      ]
    },
    {
      "cell_type": "code",
      "execution_count": 8,
      "metadata": {},
      "outputs": [
        {
          "name": "stdout",
          "output_type": "stream",
          "text": [
            "['가을 동화', '나의 아저씨', '라바', '마틸다', '프렌즈', '히트맨', None]\n"
          ]
        }
      ],
      "source": [
        "media.append(None)\n",
        "print(media)"
      ]
    },
    {
      "cell_type": "markdown",
      "metadata": {},
      "source": [
        "- 기존데이터 뒤로 밀기"
      ]
    },
    {
      "cell_type": "code",
      "execution_count": 9,
      "metadata": {},
      "outputs": [
        {
          "name": "stdout",
          "output_type": "stream",
          "text": [
            "['가을 동화', '나의 아저씨', '라바', '마틸다', '프렌즈', None, '히트맨']\n"
          ]
        }
      ],
      "source": [
        "media[6] = media[5]\n",
        "media[5] = None\n",
        "print(media)"
      ]
    },
    {
      "cell_type": "code",
      "execution_count": 10,
      "metadata": {},
      "outputs": [
        {
          "name": "stdout",
          "output_type": "stream",
          "text": [
            "['가을 동화', '나의 아저씨', '라바', '마틸다', None, '프렌즈', '히트맨']\n"
          ]
        }
      ],
      "source": [
        "media[5]= media[4]\n",
        "media[4] = None\n",
        "\n",
        "print(media)"
      ]
    },
    {
      "cell_type": "code",
      "execution_count": 11,
      "metadata": {},
      "outputs": [
        {
          "name": "stdout",
          "output_type": "stream",
          "text": [
            "['가을 동화', '나의 아저씨', '라바', '마틸다', '사도', '프렌즈', '히트맨']\n"
          ]
        }
      ],
      "source": [
        "media[4]= \"사도\"\n",
        "print(media)\n"
      ]
    },
    {
      "cell_type": "markdown",
      "metadata": {},
      "source": [
        "- 데이터 삭제 : 중간 데이터 삭제(5번째 자리)"
      ]
    },
    {
      "cell_type": "code",
      "execution_count": 12,
      "metadata": {},
      "outputs": [
        {
          "name": "stdout",
          "output_type": "stream",
          "text": [
            "['가을 동화', '나의 아저씨', '라바', '마틸다', '사도', None, '히트맨']\n"
          ]
        }
      ],
      "source": [
        "media[5]= None\n",
        "print(media )"
      ]
    },
    {
      "cell_type": "markdown",
      "metadata": {},
      "source": [
        "- 기존 데이터 앞으로 밀기"
      ]
    },
    {
      "cell_type": "code",
      "execution_count": 13,
      "metadata": {},
      "outputs": [
        {
          "name": "stdout",
          "output_type": "stream",
          "text": [
            "['가을 동화', '나의 아저씨', '라바', '마틸다', '사도', '히트맨', None]\n"
          ]
        }
      ],
      "source": [
        "media[5]= media[6]\n",
        "media[6] = None\n",
        "print(media)"
      ]
    },
    {
      "cell_type": "markdown",
      "metadata": {},
      "source": [
        "- 빈공간 삭제"
      ]
    },
    {
      "cell_type": "code",
      "execution_count": 14,
      "metadata": {},
      "outputs": [
        {
          "name": "stdout",
          "output_type": "stream",
          "text": [
            "['가을 동화', '나의 아저씨', '라바', '마틸다', '사도', '히트맨']\n"
          ]
        }
      ],
      "source": [
        "del(media[6])\n",
        "print(media)\n"
      ]
    },
    {
      "cell_type": "markdown",
      "metadata": {},
      "source": [
        "### 선형 리스트 함수로 구현하기"
      ]
    },
    {
      "cell_type": "markdown",
      "metadata": {},
      "source": [
        "* 데이터 삽입함수"
      ]
    },
    {
      "cell_type": "code",
      "execution_count": 39,
      "metadata": {},
      "outputs": [
        {
          "name": "stdout",
          "output_type": "stream",
          "text": [
            "[]\n",
            "['리바', '라바']\n"
          ]
        }
      ],
      "source": [
        "media = []\n",
        "\n",
        "\n",
        "def insert_data(position, media_name):\n",
        "    \n",
        "    if position < 0 or position > len(media):\n",
        "        print(\"데이터 삽입 위치를 벗어남\")\n",
        "        return\n",
        "\n",
        "    media.append(None)            # 공간 확보\n",
        "    mLen = len(media)                # 리스트의 현재 크기\n",
        "\n",
        "    for i in range(mLen-1, position, -1):\n",
        "        media[i] = media[i-1]\n",
        "        media[i-1] = None\n",
        "    media[position] = media_name      # 지정 위치에 미디어 추가\n",
        "\n",
        "\n",
        "print(media)\n",
        "insert_data(0,\"라바\")\n",
        "insert_data(0,\"리바\")\n",
        "print(media)\n",
        "\n"
      ]
    },
    {
      "cell_type": "markdown",
      "metadata": {},
      "source": [
        "- 데이터 삭제함수"
      ]
    },
    {
      "cell_type": "code",
      "execution_count": 42,
      "metadata": {},
      "outputs": [
        {
          "name": "stdout",
          "output_type": "stream",
          "text": [
            "[]\n"
          ]
        }
      ],
      "source": [
        "def del_data(position):\n",
        "    if position < 0 or position > len(media):\n",
        "        print(\"데이터 삽입 위치를 벗어남\")\n",
        "        return\n",
        "\n",
        "    mLen = len(media)            # 리스트의 현재 크기\n",
        "    media[position] = None   #  데이터 삭제\n",
        "\n",
        "    for i in range(position+1, mLen):\n",
        "        media[i-1] = media[i]\n",
        "        media[i] = None\n",
        "    del(media[mLen-1])         # 리스트 맨 마지막 공간 삭제\n",
        "\n",
        "\n",
        "del_data(0)\n",
        "print(media)"
      ]
    }
  ],
  "metadata": {
    "colab": {
      "authorship_tag": "ABX9TyNfYEYHL4wCNbBmxfR+rFfd",
      "collapsed_sections": [],
      "include_colab_link": true,
      "name": "python-13th-week.ipynb",
      "provenance": []
    },
    "kernelspec": {
      "display_name": "Python 3",
      "name": "python3"
    },
    "language_info": {
      "codemirror_mode": {
        "name": "ipython",
        "version": 3
      },
      "file_extension": ".py",
      "mimetype": "text/x-python",
      "name": "python",
      "nbconvert_exporter": "python",
      "pygments_lexer": "ipython3",
      "version": "3.8.8"
    }
  },
  "nbformat": 4,
  "nbformat_minor": 0
}
